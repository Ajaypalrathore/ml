{
 "cells": [
  {
   "cell_type": "code",
   "execution_count": 7,
   "id": "6b90ed40",
   "metadata": {},
   "outputs": [
    {
     "name": "stderr",
     "output_type": "stream",
     "text": [
      "/tmp/ipykernel_69990/2604508340.py:9: FutureWarning: In a future version of pandas all arguments of DataFrame.drop except for the argument 'labels' will be keyword-only\n",
      "  x = data.drop('Type', 1)\n"
     ]
    },
    {
     "name": "stdout",
     "output_type": "stream",
     "text": [
      "Accuracy Of Linear Kernel:  0.9814814814814815\n",
      "Confusion Matrix: \n",
      " [[16  0  0  0  0  0]\n",
      " [ 0 19  0  0  0  0]\n",
      " [ 0  0  6  0  0  0]\n",
      " [ 0  0  1  2  0  0]\n",
      " [ 0  0  0  0  1  0]\n",
      " [ 0  0  0  0  0  9]]\n",
      "Classification report: \n",
      "               precision    recall  f1-score   support\n",
      "\n",
      "           1       1.00      1.00      1.00        16\n",
      "           2       1.00      1.00      1.00        19\n",
      "           3       0.86      1.00      0.92         6\n",
      "           5       1.00      0.67      0.80         3\n",
      "           6       1.00      1.00      1.00         1\n",
      "           7       1.00      1.00      1.00         9\n",
      "\n",
      "    accuracy                           0.98        54\n",
      "   macro avg       0.98      0.94      0.95        54\n",
      "weighted avg       0.98      0.98      0.98        54\n",
      "\n"
     ]
    },
    {
     "ename": "NotFittedError",
     "evalue": "This SVC instance is not fitted yet. Call 'fit' with appropriate arguments before using this estimator.",
     "output_type": "error",
     "traceback": [
      "\u001b[0;31m---------------------------------------------------------------------------\u001b[0m",
      "\u001b[0;31mNotFittedError\u001b[0m                            Traceback (most recent call last)",
      "Input \u001b[0;32mIn [7]\u001b[0m, in \u001b[0;36m<module>\u001b[0;34m\u001b[0m\n\u001b[1;32m     29\u001b[0m poly\u001b[38;5;241m.\u001b[39mfit(xtrain, ytrain)\n\u001b[1;32m     30\u001b[0m rbf\u001b[38;5;241m.\u001b[39mfit(xtrain, ytrain)\n\u001b[0;32m---> 32\u001b[0m ypred2 \u001b[38;5;241m=\u001b[39m \u001b[43msigmoid\u001b[49m\u001b[38;5;241;43m.\u001b[39;49m\u001b[43mpredict\u001b[49m\u001b[43m(\u001b[49m\u001b[43mxtest\u001b[49m\u001b[43m)\u001b[49m\n\u001b[1;32m     33\u001b[0m ypred3 \u001b[38;5;241m=\u001b[39m poly\u001b[38;5;241m.\u001b[39mpredict(xtest)\n\u001b[1;32m     34\u001b[0m ypred4 \u001b[38;5;241m=\u001b[39m rbf\u001b[38;5;241m.\u001b[39mpredict(xtest)\n",
      "File \u001b[0;32m~/.local/lib/python3.9/site-packages/sklearn/svm/_base.py:778\u001b[0m, in \u001b[0;36mBaseSVC.predict\u001b[0;34m(self, X)\u001b[0m\n\u001b[1;32m    761\u001b[0m \u001b[38;5;28;01mdef\u001b[39;00m \u001b[38;5;21mpredict\u001b[39m(\u001b[38;5;28mself\u001b[39m, X):\n\u001b[1;32m    762\u001b[0m     \u001b[38;5;124;03m\"\"\"Perform classification on samples in X.\u001b[39;00m\n\u001b[1;32m    763\u001b[0m \n\u001b[1;32m    764\u001b[0m \u001b[38;5;124;03m    For an one-class model, +1 or -1 is returned.\u001b[39;00m\n\u001b[0;32m   (...)\u001b[0m\n\u001b[1;32m    776\u001b[0m \u001b[38;5;124;03m        Class labels for samples in X.\u001b[39;00m\n\u001b[1;32m    777\u001b[0m \u001b[38;5;124;03m    \"\"\"\u001b[39;00m\n\u001b[0;32m--> 778\u001b[0m     \u001b[43mcheck_is_fitted\u001b[49m\u001b[43m(\u001b[49m\u001b[38;5;28;43mself\u001b[39;49m\u001b[43m)\u001b[49m\n\u001b[1;32m    779\u001b[0m     \u001b[38;5;28;01mif\u001b[39;00m \u001b[38;5;28mself\u001b[39m\u001b[38;5;241m.\u001b[39mbreak_ties \u001b[38;5;129;01mand\u001b[39;00m \u001b[38;5;28mself\u001b[39m\u001b[38;5;241m.\u001b[39mdecision_function_shape \u001b[38;5;241m==\u001b[39m \u001b[38;5;124m\"\u001b[39m\u001b[38;5;124movo\u001b[39m\u001b[38;5;124m\"\u001b[39m:\n\u001b[1;32m    780\u001b[0m         \u001b[38;5;28;01mraise\u001b[39;00m \u001b[38;5;167;01mValueError\u001b[39;00m(\n\u001b[1;32m    781\u001b[0m             \u001b[38;5;124m\"\u001b[39m\u001b[38;5;124mbreak_ties must be False when decision_function_shape is \u001b[39m\u001b[38;5;124m'\u001b[39m\u001b[38;5;124movo\u001b[39m\u001b[38;5;124m'\u001b[39m\u001b[38;5;124m\"\u001b[39m\n\u001b[1;32m    782\u001b[0m         )\n",
      "File \u001b[0;32m~/.local/lib/python3.9/site-packages/sklearn/utils/validation.py:1222\u001b[0m, in \u001b[0;36mcheck_is_fitted\u001b[0;34m(estimator, attributes, msg, all_or_any)\u001b[0m\n\u001b[1;32m   1217\u001b[0m     fitted \u001b[38;5;241m=\u001b[39m [\n\u001b[1;32m   1218\u001b[0m         v \u001b[38;5;28;01mfor\u001b[39;00m v \u001b[38;5;129;01min\u001b[39;00m \u001b[38;5;28mvars\u001b[39m(estimator) \u001b[38;5;28;01mif\u001b[39;00m v\u001b[38;5;241m.\u001b[39mendswith(\u001b[38;5;124m\"\u001b[39m\u001b[38;5;124m_\u001b[39m\u001b[38;5;124m\"\u001b[39m) \u001b[38;5;129;01mand\u001b[39;00m \u001b[38;5;129;01mnot\u001b[39;00m v\u001b[38;5;241m.\u001b[39mstartswith(\u001b[38;5;124m\"\u001b[39m\u001b[38;5;124m__\u001b[39m\u001b[38;5;124m\"\u001b[39m)\n\u001b[1;32m   1219\u001b[0m     ]\n\u001b[1;32m   1221\u001b[0m \u001b[38;5;28;01mif\u001b[39;00m \u001b[38;5;129;01mnot\u001b[39;00m fitted:\n\u001b[0;32m-> 1222\u001b[0m     \u001b[38;5;28;01mraise\u001b[39;00m NotFittedError(msg \u001b[38;5;241m%\u001b[39m {\u001b[38;5;124m\"\u001b[39m\u001b[38;5;124mname\u001b[39m\u001b[38;5;124m\"\u001b[39m: \u001b[38;5;28mtype\u001b[39m(estimator)\u001b[38;5;241m.\u001b[39m\u001b[38;5;18m__name__\u001b[39m})\n",
      "\u001b[0;31mNotFittedError\u001b[0m: This SVC instance is not fitted yet. Call 'fit' with appropriate arguments before using this estimator."
     ]
    }
   ],
   "source": [
    "from sklearn import svm\n",
    "import pandas as pd\n",
    "import numpy as np\n",
    "from sklearn.model_selection import train_test_split\n",
    "from sklearn.metrics import accuracy_score, confusion_matrix, classification_report\n",
    "\n",
    "data = pd.read_csv('glass.csv')\n",
    "y = data['Type']\n",
    "x = data.drop('Type', 1)\n",
    "\n",
    "xtrain, xtest, ytrain, ytest = train_test_split(x, y, test_size=0.25)\n",
    "\n",
    "linear = svm.SVC(kernel='linear')\n",
    "linear.fit(xtrain, ytrain)\n",
    "ypred1 = linear.predict(xtest)\n",
    "\n",
    "#print(linear.support_vectors_)\n",
    "#print(linear.n_support_)\n",
    "\n",
    "print(\"Accuracy Of Linear Kernel: \", accuracy_score(ytest, ypred1))\n",
    "print(\"Confusion Matrix: \\n\", confusion_matrix(ytest, ypred1))\n",
    "print(\"Classification report: \\n\", classification_report(ytest, ypred1))\n",
    "\n",
    "sigmoid = svm.SVC(kernel='sigmoid')\n",
    "sigmoid.fit(xtrain, ytrain)\n",
    "ypred2 = sigmoid.predict(xtest)\n",
    "\n",
    "poly = svm.SVC(kernel='poly')\n",
    "poly.fit(xtrain, ytrain)\n",
    "\n",
    "\n",
    "rbf = svm.SVC(kernel='rbf')\n",
    "\n",
    "\n",
    "rbf.fit(xtrain, ytrain)\n",
    "\n",
    "ypred3 = poly.predict(xtest)\n",
    "ypred4 = rbf.predict(xtest)\n",
    "\n",
    "print(\"Accuracy Of Sigmoid Kernel: \", accuracy_score(ytest, ypred2))\n",
    "print(\"Accuracy Of Ploy Kernel: \", accuracy_score(ytest, ypred3))\n",
    "print(\"Accuracy Of RBF Kernel: \", accuracy_score(ytest, ypred4))"
   ]
  },
  {
   "cell_type": "code",
   "execution_count": 20,
   "id": "78064238",
   "metadata": {},
   "outputs": [
    {
     "name": "stdout",
     "output_type": "stream",
     "text": [
      "fatal: destination path 'svm' already exists and is not an empty directory.\r\n"
     ]
    }
   ],
   "source": []
  },
  {
   "cell_type": "code",
   "execution_count": null,
   "id": "274e4c03",
   "metadata": {},
   "outputs": [],
   "source": []
  }
 ],
 "metadata": {
  "kernelspec": {
   "display_name": "Python 3 (ipykernel)",
   "language": "python",
   "name": "python3"
  },
  "language_info": {
   "codemirror_mode": {
    "name": "ipython",
    "version": 3
   },
   "file_extension": ".py",
   "mimetype": "text/x-python",
   "name": "python",
   "nbconvert_exporter": "python",
   "pygments_lexer": "ipython3",
   "version": "3.9.7"
  }
 },
 "nbformat": 4,
 "nbformat_minor": 5
}
