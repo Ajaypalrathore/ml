{
 "cells": [
  {
   "cell_type": "code",
   "execution_count": 8,
   "id": "bba3b1f4",
   "metadata": {},
   "outputs": [
    {
     "name": "stdout",
     "output_type": "stream",
     "text": [
      "Sum Squared Error   868.5324469391846\n",
      "\n",
      "Mean Squared Error  8.953942751950358\n",
      "\n",
      "Root Mean Squared Error   2.9923139460876023\n",
      "\n",
      "Sum of squares total   2914.8470516572247\n",
      "\n",
      "Sum of squares regression   2046.3146047180405\n",
      "\n",
      " R2 Score   0.7020315537841398\n",
      "\n",
      " Plotting Graph of Actual vs Predicted \n",
      "\n"
     ]
    },
    {
     "data": {
      "image/png": "[encoded data removed]",
      "text/plain": [
       "<Figure size 432x288 with 1 Axes>"
      ]
     },
     "metadata": {
      "needs_background": "light"
     },
     "output_type": "display_data"
    }
   ],
   "source": [
    "import pandas as pd\n",
    "import numpy as np\n",
    "import statistics as st\n",
    "import matplotlib.pyplot as plt\n",
    "\n",
    "headers = ['X', 'Y']\n",
    "data = pd.read_csv('Food-Truck-LineReg.csv', names=headers)\n",
    "X = data['X'].values\n",
    "y = data['Y'].values\n",
    "\n",
    "mx = np.mean(X)\n",
    "my = np.mean(y)\n",
    "sx = st.stdev(X)\n",
    "sy = st.stdev(y)\n",
    "\n",
    "r = np.corrcoef(X, y)[0][1]\n",
    "m = r * (sy/sx)\n",
    "c = my - (m * mx)\n",
    "\n",
    "y_pred = (m * X) + c\n",
    "\n",
    "# Evaluating the predictions\n",
    "error = (y - y_pred)**2\n",
    "sse = sum(error)\n",
    "print(\"Sum Squared Error  \", sse)\n",
    "\n",
    "mse = sse/len(y)\n",
    "print(\"\\nMean Squared Error \", mse)\n",
    "\n",
    "rmse = np.sqrt(mse)\n",
    "print(\"\\nRoot Mean Squared Error  \", rmse)\n",
    "\n",
    "er1 = (y - my)**2\n",
    "sst = sum(er1)      \n",
    "print(\"\\nSum of squares total  \", sst)\n",
    "\n",
    "pred_mean = np.mean(y_pred)\n",
    "er2 = (y_pred - pred_mean)**2\n",
    "ssr = sum(er2)      \n",
    "print(\"\\nSum of squares regression  \", ssr)\n",
    "\n",
    "r_score = ssr/sst\n",
    "print(\"\\n R2 Score  \", r_score)\n",
    "\n",
    "print(\"\\n Plotting Graph of Actual vs Predicted \\n\")\n",
    "plt.scatter(X, y, color='red', s=15)\n",
    "plt.plot(X,y_pred, color='black')\n",
    "plt.xlabel('X')\n",
    "plt.ylabel('Y')\n",
    "plt.show()"
   ]
  },
  {
   "cell_type": "code",
   "execution_count": null,
   "id": "039b09fb",
   "metadata": {},
   "outputs": [],
   "source": []
  }
 ],
 "metadata": {
  "kernelspec": {
   "display_name": "Python 3 (ipykernel)",
   "language": "python",
   "name": "python3"
  },
  "language_info": {
   "codemirror_mode": {
    "name": "ipython",
    "version": 3
   },
   "file_extension": ".py",
   "mimetype": "text/x-python",
   "name": "python",
   "nbconvert_exporter": "python",
   "pygments_lexer": "ipython3",
   "version": "3.9.7"
  }
 },
 "nbformat": 4,
 "nbformat_minor": 5
}
