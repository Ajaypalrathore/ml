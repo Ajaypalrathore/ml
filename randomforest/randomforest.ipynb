{
 "cells": [
  {
   "cell_type": "code",
   "execution_count": 5,
   "id": "e1efda11",
   "metadata": {
    "scrolled": true
   },
   "outputs": [
    {
     "name": "stderr",
     "output_type": "stream",
     "text": [
      "/tmp/ipykernel_69789/3917762825.py:9: FutureWarning: In a future version of pandas all arguments of DataFrame.drop except for the argument 'labels' will be keyword-only\n",
      "  X = data.drop('Outcome', 1)\n"
     ]
    },
    {
     "name": "stdout",
     "output_type": "stream",
     "text": [
      "Accuracy:  0.6927083333333334\n",
      "                   Features  Importance\n",
      "1                   Glucose    0.277359\n",
      "5                       BMI    0.171341\n",
      "6  DiabetesPedigreeFunction    0.130970\n",
      "7                       Age    0.120346\n",
      "2             BloodPressure    0.081429\n",
      "0               Pregnancies    0.080641\n",
      "4                   Insulin    0.071291\n",
      "3             SkinThickness    0.066622\n",
      "Accuracy:  0.6458333333333334\n"
     ]
    }
   ],
   "source": [
    "from sklearn.ensemble import RandomForestClassifier\n",
    "from sklearn.tree import DecisionTreeClassifier\n",
    "from sklearn.preprocessing import StandardScaler\n",
    "from sklearn.metrics import accuracy_score\n",
    "from sklearn.model_selection import train_test_split\n",
    "\n",
    "data = pd.read_csv('pima.csv')\n",
    "y = data['Outcome']\n",
    "X = data.drop('Outcome', 1)\n",
    "\n",
    "scaleX = StandardScaler().fit_transform(X)\n",
    "xtrain, xtest, ytrain, ytest = train_test_split(X, y, test_size=0.25)\n",
    "\n",
    "rfc = RandomForestClassifier()\n",
    "rfc.fit(xtrain, ytrain)\n",
    "ypred = rfc.predict(xtest)\n",
    "print(\"Accuracy: \", accuracy_score(ytest, ypred))\n",
    "\n",
    "imp_features = pd.DataFrame({'Features':X.columns, 'Importance':rfc.feature_importances_}).sort_values('Importance', ascending=False)\n",
    "print(imp_features)\n",
    "\n",
    "dt = DecisionTreeClassifier()\n",
    "dt.fit(xtrain, ytrain)\n",
    "ypred_1 = dt.predict(xtest)\n",
    "print(\"Accuracy: \", accuracy_score(ytest, ypred_1))"
   ]
  },
  {
   "cell_type": "code",
   "execution_count": null,
   "id": "dc5599f1",
   "metadata": {},
   "outputs": [],
   "source": []
  },
  {
   "cell_type": "code",
   "execution_count": null,
   "id": "e3c853a4",
   "metadata": {},
   "outputs": [],
   "source": []
  }
 ],
 "metadata": {
  "kernelspec": {
   "display_name": "Python 3 (ipykernel)",
   "language": "python",
   "name": "python3"
  },
  "language_info": {
   "codemirror_mode": {
    "name": "ipython",
    "version": 3
   },
   "file_extension": ".py",
   "mimetype": "text/x-python",
   "name": "python",
   "nbconvert_exporter": "python",
   "pygments_lexer": "ipython3",
   "version": "3.9.7"
  }
 },
 "nbformat": 4,
 "nbformat_minor": 5
}
